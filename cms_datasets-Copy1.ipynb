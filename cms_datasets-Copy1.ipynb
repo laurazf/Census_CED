{
 "cells": [
  {
   "cell_type": "code",
   "execution_count": 4,
   "metadata": {},
   "outputs": [
    {
     "name": "stdout",
     "output_type": "stream",
     "text": [
      "5 - BR - The Impact of Foreign Trade on the U.S. Economy\n",
      "Annual Survey of Manufactures\n",
      "Census of Manufactures\n",
      "Census of Mining\n",
      "Census of Construction Industries\n",
      "Enterprise Summary Report - ES9100 (large company)\n",
      "Auxiliary Establishment - ES9200\n",
      "Standard Statistical Establishment Listing \n",
      "Census of Retail Trade\n",
      "Census of Services\n",
      "Census of Wholesale Trade\n",
      "8 -  - Do Plants Move? - Evidence of Relocation in U.S. Manufacturing Plants\n",
      "Census of Manufactures\n",
      "9 - WO - The Decennial Employee-Employer Database: Construction, Assessment, and Application to the Study of Residential and Labor Market Segregation\n",
      "Census of Manufactures\n",
      "Census of Mining\n",
      "Census of Construction Industries\n",
      "Standard Statistical Establishment Listing \n",
      "Census of Retail Trade\n",
      "Census of Services\n",
      "Census of Wholesale Trade\n",
      "Census of Finance, Insurance, and Real Estate\n",
      "Census of Transportation, Communications, and Utilities\n",
      "Decennial Employer-Employee Database\n",
      "11 -  - Productivity Dynamics and Capital Adjustment Patterns in U.S. Food and Kindred Product Industry: Plant and Firm Level Analysis\n",
      "Annual Survey of Manufactures\n",
      "Census of Manufactures\n",
      "13 - MC - Evaluating the Economic Impact of an Economic Development Program: Measuring the Performance of the Manufacturing Extension Partnership\n",
      "Annual Survey of Manufactures\n",
      "Census of Manufactures\n",
      "Longitudinal Business Database - No Revenue\n",
      "18 - MC - Do Plants Change Their Productivity and Wage Rankings?\n",
      "Census of Manufactures\n",
      "22 - LA - Firm Inventory Behavior and the Returns from Infrastructure Investment\n",
      "Annual Survey of Manufactures\n",
      "Census of Manufactures\n",
      "23 - WO - Does a Rising Tide of Small Business Jobs Lift All Boats?\n",
      "Longitudinal Business Database - No Revenue\n",
      "26 - TR - Firms and Layoffs: The Impact of Unionization on Involuntary Job Loss\n",
      "Non-Employer Business Register\n",
      "28 - WO - Estimating the Cost Saving from Incentive-Based Environmental Policy When Cost Are Heterogeneous\n",
      "Annual Survey of Manufactures\n",
      "Census of Manufactures\n",
      "Manufacturing Energy Consumption Survey\n",
      "Survey of Pollution Abatement Costs and Expenditures\n"
     ]
    }
   ],
   "source": [
    "from base64 import b64encode\n",
    "from pprint import pprint\n",
    "import requests\n",
    "\n",
    "api_key = ##\n",
    "\n",
    "headers = { 'Authorization' : 'key=%s' %  (api_key).decode(\"ascii\") }\n",
    "\n",
    "def run_query(path, fields, page, limit):\n",
    "    request = requests.get('https://www.ces.census.gov/api/iaa/v1.3%s?fields=%s&page=%s&limit=%s' % (path,fields,page,limit), headers=headers, proxies={\"https\" : \"148.129.75.18:3128\"})\n",
    "    if request.status_code == 200:\n",
    "        return request.json()\n",
    "    else:\n",
    "        raise Exception(\"Query failed to run by returning code of {}.\".format(request.status_code))\n",
    "\n",
    "projects = run_query('/project/status/CP','cms_project_id,title','0','10') # Execute the project query\n",
    "\n",
    "for proj in projects:\n",
    "    print(proj['title'])\n",
    "    datasets = run_query('/project/%s/data' % proj['cms_project_id'],'name','0','10') # Execute the dataset query\n",
    "   \n",
    "    for data in datasets:\n",
    "        print(data['name'])"
   ]
  },
  {
   "cell_type": "code",
   "execution_count": null,
   "metadata": {},
   "outputs": [],
   "source": []
  }
 ],
 "metadata": {
  "kernelspec": {
   "display_name": "Python 3",
   "language": "python",
   "name": "python3"
  },
  "language_info": {
   "codemirror_mode": {
    "name": "ipython",
    "version": 3
   },
   "file_extension": ".py",
   "mimetype": "text/x-python",
   "name": "python",
   "nbconvert_exporter": "python",
   "pygments_lexer": "ipython3",
   "version": "3.7.3"
  }
 },
 "nbformat": 4,
 "nbformat_minor": 2
}
