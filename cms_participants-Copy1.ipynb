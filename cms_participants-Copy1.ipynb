{
 "cells": [
  {
   "cell_type": "code",
   "execution_count": 2,
   "metadata": {},
   "outputs": [
    {
     "name": "stdout",
     "output_type": "stream",
     "text": [
      "[{'id': 5, 'name': 'abstract_doc', 'author': 'J Bradford Jensen', 'encoding': 'base64', 'mime_type': 'text/plain', 'mime_data': 'ABSTRACT\\nThe Impact of Foreign Trade on the U.S. Economy\\nJ. Bradford Jensen\\nAndrew Bernard\\nPeter Schott\\n\\nThe project will proceed in three phases:\\n1. Develop and test linkages between transaction level Foreign Trade data and Economic\\nCensus and Survey data.\\n2. Analyze transaction level detail to examine changes in foreign trade transactions, focusing\\ninitially on related party transactions, potential underreporting, and impact of FTD outreach\\nefforts.\\n3. Develop empirical and analytical framework to investigate the impact of trade on the U.S.\\neconomy - focusing on how firms allocate economic activity between domestic and foreign\\nproduction and the impact of this on the domestic economy (including workers and regional\\neconomies).\\n\\n\\x0c'}]\n",
      "ABSTRACT The Impact of Foreign Trade on the U.S. Economy J. Bradford Jensen Andrew Bernard Peter Schott  The project will proceed in three phases: 1. Develop and test linkages between transaction level Foreign Trade data and Economic Census and Survey data. 2. Analyze transaction level detail to examine changes in foreign trade transactions, focusing initially on related party transactions, potential underreporting, and impact of FTD outreach efforts. 3. Develop empirical and analytical framework to investigate the impact of trade on the U.S. economy - focusing on how firms allocate economic activity between domestic and foreign production and the impact of this on the domestic economy (including workers and regional economies).  \f",
      "\n"
     ]
    }
   ],
   "source": [
    "#!/usr/bin/env python\n",
    "#\n",
    "# Example of using the CMS REST API to fetch the\n",
    "# cms_project_id, type_name, title, and participants {username, fullname, roles}\n",
    "# fields of completed projects\n",
    "# \n",
    "# Explore the CMS API from the following URL\n",
    "# http://app2.dev.ces.census.gov/swagger-ui/ \n",
    "#\n",
    "import base64\n",
    "from base64 import b64encode\n",
    "from pprint import pprint\n",
    "import requests\n",
    "\n",
    "api_key = ##\n",
    "\n",
    "headers = { 'Authorization' : 'key=%s' %  (api_key).decode(\"ascii\") }\n",
    "\n",
    "def run_query(path,fields,page,limit):\n",
    "    request = requests.get('https://www.ces.census.gov/api/iaa/v1.3%s?fields=%s&page=%s&limit=%s' % (path,fields,page,limit), headers=headers, proxies={\"https\" : \"148.129.75.18:3128\"})\n",
    "    if request.status_code == 200:\n",
    "        return request.json()\n",
    "    else:\n",
    "        raise Exception(\"Query failed to run by returning code of {}.\".format(request.status_code))\n",
    "\n",
    "projects = run_query('/project/status/CP','cms_project_id,type_name,title,participants{username,fullname,roles}','0','10') # Execute the query\n",
    "\n",
    "# projects2 = run_query('/project/5/abstract','cms_project_id,type_name,title,participants{username,fullname,roles}','0','10') # Execute the query\n",
    "# for proj in projects2:\n",
    "#     print(proj)\n",
    "#     base64_message = proj['mime_data']\n",
    "#     base64_bytes = base64_message.encode('ascii')\n",
    "#     message_bytes = base64.b64decode(base64_bytes)\n",
    "#     message = message_bytes.decode('ascii')\n",
    "#     print(message)\n",
    "\n",
    "#can use abstract or proposal, proposal is longer\n",
    "results = run_query('/project/5/abstract/text','mime_data','0','10')\n",
    "print(results)\n",
    "print(results[0]['mime_data'].replace(\"\\n\", \" \"))\n",
    "\n",
    "# for res in results:\n",
    "#     base64_message = res['mime_data']\n",
    "#     base64_bytes   = base64_message.encode('ascii')\n",
    "#     message_bytes  = base64.b64decode(base64_bytes)\n",
    "#     print(message_bytes)\n",
    "    \n",
    " #   f = open('abstract_5.pdf','wb')\n",
    "#    f.write(message_bytes)"
   ]
  },
  {
   "cell_type": "code",
   "execution_count": 3,
   "metadata": {},
   "outputs": [
    {
     "name": "stdout",
     "output_type": "stream",
     "text": [
      "J Bradford Jensen\n",
      "Andrew B Bernard\n",
      "Peter K Schott\n",
      "{'title': '5 - BR - The Impact of Foreign Trade on the U.S. Economy', 'cms_project_id': 5, 'type_name': 'EXTERNAL', 'destinations': [''], 'participants': [{'username': 'jense002', 'fullname': 'J Bradford Jensen', 'roles': ['researcher', 'owner', 'principal']}, {'username': 'davis356', 'fullname': 'James C Davis', 'roles': ['admin_primary', 'admin_additional', 'contact']}, {'username': 'downs006', 'fullname': 'Barbara A Downs', 'roles': ['admin_supervisor', 'admin_alternate']}, {'username': 'berna318', 'fullname': 'Andrew B Bernard', 'roles': ['researcher']}, {'username': 'schot005', 'fullname': 'Peter K Schott', 'roles': ['researcher']}, {'username': 'galva007', 'fullname': 'Christopher A Galvan', 'roles': ['admin_additional']}, {'username': 'baile394', 'fullname': 'Stephanie M Bailey', 'roles': ['admin_additional']}, {'username': 'beede001', 'fullname': 'David N Beede', 'roles': ['admin_additional']}, {'username': 'foste003', 'fullname': 'Lucia S. Foster', 'project_form_active': '', 'project_date_active': 'y', 'roles': ['division_chief']}, {'username': 'grim0001', 'fullname': 'Cheryl Ann Grim', 'project_form_active': '', 'project_date_active': 'y', 'roles': ['project_reviewer']}]}\n"
     ]
    }
   ],
   "source": [
    "#authors-- only grab people with \"researcher\" as role\n",
    "#fix so that query grabs just result corresponding to pjid instead of first 10 only\n",
    "\n",
    "pjid = 5\n",
    "\n",
    "for proj in projects:\n",
    "    #print(proj['title'])\n",
    "    if proj['title'].split(\"-\")[0] == str(pjid) + \" \":\n",
    "        for part in proj['participants']:\n",
    "            if 'researcher' in part['roles']:\n",
    "                print(part['fullname'])\n",
    "#         for role in part['roles']:\n",
    "#             print(role)\n",
    "for proj in projects:\n",
    "    if proj['title']=='5 - BR - The Impact of Foreign Trade on the U.S. Economy':\n",
    "        print(proj)"
   ]
  },
  {
   "cell_type": "code",
   "execution_count": null,
   "metadata": {},
   "outputs": [],
   "source": [
    "# Install a conda package in the current Jupyter kernel\n",
    "import sys\n",
    "!conda install --yes --prefix {sys.prefix} PyPDF2\n",
    "    \n",
    "# creating a pdf file object \n",
    "pdfFileObj = open('abstract_5.pdf', 'rb') \n",
    "    \n",
    "# creating a pdf reader object \n",
    "pdfReader = PyPDF2.PdfFileReader(pdfFileObj) \n",
    "    \n",
    "# printing number of pages in pdf file \n",
    "#print(pdfReader.numPages) \n",
    "    \n",
    "# creating a page object \n",
    "pageObj = pdfReader.getPage(0) \n",
    "    \n",
    "# extracting text from page \n",
    "print(pageObj.extractText()) \n",
    "    \n",
    "# closing the pdf file object \n",
    "pdfFileObj.close() "
   ]
  },
  {
   "cell_type": "code",
   "execution_count": null,
   "metadata": {},
   "outputs": [],
   "source": []
  }
 ],
 "metadata": {
  "kernelspec": {
   "display_name": "Python 3",
   "language": "python",
   "name": "python3"
  },
  "language_info": {
   "codemirror_mode": {
    "name": "ipython",
    "version": 3
   },
   "file_extension": ".py",
   "mimetype": "text/x-python",
   "name": "python",
   "nbconvert_exporter": "python",
   "pygments_lexer": "ipython3",
   "version": "3.7.3"
  }
 },
 "nbformat": 4,
 "nbformat_minor": 2
}
